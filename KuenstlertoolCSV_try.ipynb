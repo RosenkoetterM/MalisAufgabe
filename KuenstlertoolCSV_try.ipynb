{
 "cells": [
  {
   "cell_type": "markdown",
   "metadata": {},
   "source": [
    "## Step 1: Datei laden\n",
    "Es gibt noch keine Open Access-Schnittstelle für die Online Datenbank www.bildindex.de. Deswegen wird ein zu Testzwecken eine Exportdatei erstellt. Da die ursprüngliche Datei zu groß (die Ladezeiten hemmen den Arbeitsfluss), wurde hierfür nur ein kleiner Ausschnitt aus dem Gesamtexport verwendet. "
   ]
  },
  {
   "cell_type": "code",
   "execution_count": 24,
   "metadata": {},
   "outputs": [],
   "source": [
    "import pandas as pd"
   ]
  },
  {
   "cell_type": "code",
   "execution_count": null,
   "metadata": {},
   "outputs": [],
   "source": []
  },
  {
   "cell_type": "code",
   "execution_count": 86,
   "metadata": {},
   "outputs": [
    {
     "name": "stdout",
     "output_type": "stream",
     "text": [
      "#DocumentKey;#3000;#3100;#31nn;#3140;#3160;#3162;#3180;#3189;#3200;#3248;#3300;#8566;#99fm\n",
      "\n",
      "\"kue     00050382\";00050382;\"Adams, Edward T.\";\"Edward T. Adams\";m;\"Bürgertum\";Fotograf;1901-3000;\"Urheberrecht (Nachweis bis 3000; Name unvollständig)\";\"Vereinigte Staaten\";US-amerikanisch;1901;\"nicht VG BILD-KUNST r.V.,2012\";\"AKL 00\"\n",
      "\n",
      "\"kue     02530645\";02530645;\"Adamo, Max\";\"Max Adamo\";m;\"Bürgertum\";\"Maler & Illustrator\";1852-1901;gemeinfrei;Deutschland;deutsch;;;\n",
      "\n",
      "\"kue     05110039\";05110039;\"Adams, Ansel\";\"Ansel Adams\";m;;Fotograf;1917-1984;\"Urheberrecht (1984 gestorben)\";\"Vereinigte Staaten\";US-amerikanisch;;\"nicht VG BILD-KUNST r.V.,2011\";\n",
      "\n",
      "\"kue     08003836\";08003836;\"Adams, ? (1601/1700)\";\"? Adams\";;;Zeichner;1601/1700;gemeinfrei;Italien;italienisch;;;\n",
      "\n",
      "\"kue     08120462\";08120462;\"Adamos, Carlo\";\"Carlo Adamos\";m;;Bildhauer;1801-1900;\"Urheberrecht? (Nachweis bis 1900)\";Italien;italienisch;1801/1900;;\"AKL-Texteinspielung. Strukturdaten noch abgleichen.\"\n",
      "\n",
      "\"kue     20033789\";20033789;\"Adams, ? (1930)\";\"Adams (1930)\";m?;;Zeichner;1930;\"Urheberrecht? (Nachweis bis 1930; Name unvollständig)\";England;englisch;1930;;\n",
      "\n",
      "\"kue     20037799\";20037799;\"Adams, Anton\";\"Anton Adams\";m;;Architekt;1871-1915;gemeinfrei;Deutschland;deutsch;;;\n",
      "\n",
      "\"kue     20080559\";20080559;\"Adams, Eddie\";\"Eddie Adams\";m;;Fotograf;1968-3000;\"Urheberrecht (Nachweis bis 3000)\";\"Vereinigte Staaten\";US-amerikanisch;;\"nicht VG BILD-KUNST r.V.,2012\";\n",
      "\n",
      "\"kue     20101153\";20101153;\"Adams, ? (1816)\";\"Adams (1816)\";m?;;\"Lithograph & Zeichner\";1816-1822;\"gemeinfrei (Name unvollständig)\";Deutschland;deutsch;1816;;\n",
      "\n",
      "\"kue     20222356\";20222356;\"Adamolli, Luigi\";\"Luigi Adamolli\";m;;\"Bildhauer & Plastiker\";1810;gemeinfrei;Italien;italienisch;;;\n",
      "\n"
     ]
    }
   ],
   "source": [
    "kue_file=\"kueShortExport.csv\"\n",
    "for line in open(kue_file):\n",
    "    print (line)"
   ]
  },
  {
   "cell_type": "markdown",
   "metadata": {},
   "source": [
    "# Problem 1: \n",
    "30gn kommt hier nicht vor, obwohl es in der Ausgangsdatei vorhanden ist"
   ]
  },
  {
   "cell_type": "markdown",
   "metadata": {},
   "source": [
    "# Problem 2: Dataframe funktioniert nicht: \n",
    "\n",
    "next try with: 'r', encoding='utf-8', errors='ignore'> TypeError: parser_f() got an unexpected keyword argument 'errors'"
   ]
  },
  {
   "cell_type": "code",
   "execution_count": 106,
   "metadata": {},
   "outputs": [
    {
     "ename": "SyntaxError",
     "evalue": "unexpected EOF while parsing (<ipython-input-106-cba2616f73f8>, line 2)",
     "output_type": "error",
     "traceback": [
      "\u001b[1;36m  File \u001b[1;32m\"<ipython-input-106-cba2616f73f8>\"\u001b[1;36m, line \u001b[1;32m2\u001b[0m\n\u001b[1;33m    errors='ignore') as fdata:\u001b[0m\n\u001b[1;37m                              ^\u001b[0m\n\u001b[1;31mSyntaxError\u001b[0m\u001b[1;31m:\u001b[0m unexpected EOF while parsing\n"
     ]
    }
   ],
   "source": [
    "#next try with: \n",
    "with codecs.open(kue_file, 'r', encoding='utf-8',\n",
    "                 errors='ignore') as fdata:"
   ]
  },
  {
   "cell_type": "code",
   "execution_count": 107,
   "metadata": {},
   "outputs": [
    {
     "ename": "TypeError",
     "evalue": "parser_f() got an unexpected keyword argument 'errors'",
     "output_type": "error",
     "traceback": [
      "\u001b[1;31m---------------------------------------------------------------------------\u001b[0m",
      "\u001b[1;31mTypeError\u001b[0m                                 Traceback (most recent call last)",
      "\u001b[1;32m<ipython-input-107-5b182d97cf73>\u001b[0m in \u001b[0;36m<module>\u001b[1;34m\u001b[0m\n\u001b[1;32m----> 1\u001b[1;33m \u001b[0mapcs\u001b[0m \u001b[1;33m=\u001b[0m \u001b[0mpd\u001b[0m\u001b[1;33m.\u001b[0m\u001b[0mread_csv\u001b[0m\u001b[1;33m(\u001b[0m\u001b[0mkue_file\u001b[0m\u001b[1;33m,\u001b[0m \u001b[1;34m'r'\u001b[0m\u001b[1;33m,\u001b[0m \u001b[0mencoding\u001b[0m\u001b[1;33m=\u001b[0m\u001b[1;34m'utf-8'\u001b[0m\u001b[1;33m,\u001b[0m \u001b[0merrors\u001b[0m\u001b[1;33m=\u001b[0m\u001b[1;34m'ignore'\u001b[0m\u001b[1;33m)\u001b[0m\u001b[1;33m\u001b[0m\u001b[1;33m\u001b[0m\u001b[0m\n\u001b[0m\u001b[0;32m      2\u001b[0m \u001b[0mprint\u001b[0m \u001b[1;33m(\u001b[0m\u001b[0mapcs\u001b[0m\u001b[1;33m)\u001b[0m\u001b[1;33m\u001b[0m\u001b[1;33m\u001b[0m\u001b[0m\n",
      "\u001b[1;31mTypeError\u001b[0m: parser_f() got an unexpected keyword argument 'errors'"
     ]
    }
   ],
   "source": [
    "#2nd try:\n",
    "apcs = pd.read_csv(kue_file, 'r', encoding='utf-8', errors='ignore')\n",
    "print (apcs)"
   ]
  },
  {
   "cell_type": "code",
   "execution_count": null,
   "metadata": {},
   "outputs": [],
   "source": [
    "##"
   ]
  }
 ],
 "metadata": {
  "kernelspec": {
   "display_name": "Python 3",
   "language": "python",
   "name": "python3"
  },
  "language_info": {
   "codemirror_mode": {
    "name": "ipython",
    "version": 3
   },
   "file_extension": ".py",
   "mimetype": "text/x-python",
   "name": "python",
   "nbconvert_exporter": "python",
   "pygments_lexer": "ipython3",
   "version": "3.7.3"
  }
 },
 "nbformat": 4,
 "nbformat_minor": 2
}
